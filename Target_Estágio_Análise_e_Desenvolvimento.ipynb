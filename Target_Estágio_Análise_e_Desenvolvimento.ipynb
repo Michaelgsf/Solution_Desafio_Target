{
  "cells": [
    {
      "cell_type": "markdown",
      "source": [
        "1) Observe o trecho de código abaixo: int INDICE = 13, SOMA = 0, K = 0;\n",
        "Enquanto K < INDICE faça { K = K + 1; SOMA = SOMA + K; }\n",
        "Imprimir(SOMA);\n",
        "Ao final do processamento, qual será o valor da variável SOMA?"
      ],
      "metadata": {
        "id": "RPvIAMFX9rhD"
      }
    },
    {
      "cell_type": "code",
      "source": [
        "INDICE = 13\n",
        "SOMA = 0\n",
        "K = 0\n",
        "\n",
        "while K < INDICE:\n",
        "  K = K + 1\n",
        "  SOMA = SOMA + K\n",
        "  print(SOMA)"
      ],
      "metadata": {
        "colab": {
          "base_uri": "https://localhost:8080/"
        },
        "id": "4NhYToNp9xlr",
        "outputId": "cc30814f-42d3-41e5-c5fe-56a53ada4fb8"
      },
      "execution_count": 2,
      "outputs": [
        {
          "output_type": "stream",
          "name": "stdout",
          "text": [
            "1\n",
            "3\n",
            "6\n",
            "10\n",
            "15\n",
            "21\n",
            "28\n",
            "36\n",
            "45\n",
            "55\n",
            "66\n",
            "78\n",
            "91\n"
          ]
        }
      ]
    },
    {
      "cell_type": "markdown",
      "source": [
        "RESPOSTA: 91"
      ],
      "metadata": {
        "id": "5GOPETCF-eIr"
      }
    },
    {
      "cell_type": "markdown",
      "source": [
        "2) Dado a sequência de Fibonacci, onde se inicia por 0 e 1 e o próximo valor sempre será a soma dos 2 valores anteriores (exemplo: 0, 1, 1, 2, 3, 5, 8, 13, 21, 34...), escreva um programa na linguagem que desejar onde, informado um número, ele calcule a sequência de Fibonacci e retorne uma mensagem avisando se o número informado pertence ou não a sequência."
      ],
      "metadata": {
        "id": "_z9iES2c-Y7i"
      }
    },
    {
      "cell_type": "code",
      "source": [
        "def eh_Fibonacci(numero):\n",
        "  if numero == 0 or numero == 1:\n",
        "    return True\n",
        "\n",
        "  x, y = 0, 1\n",
        "\n",
        "  while y < numero:\n",
        "        x, y = y, x + y\n",
        "\n",
        "  return y == numero\n",
        "\n",
        "\n",
        "try:\n",
        "  numero = int(input(\"Informe um número inteiro maior ou igual a zero: \"))\n",
        "\n",
        "  if eh_Fibonacci(numero):\n",
        "    print(f\"O número {numero} pertence à sequência de Fibonacci.\")\n",
        "  else:\n",
        "    print(f\"O número {numero} não pertence à sequência de Fibonacci.\")\n",
        "\n",
        "except ValueError:\n",
        "    print(\"Por favor, informe um valor válido.\")"
      ],
      "metadata": {
        "colab": {
          "base_uri": "https://localhost:8080/"
        },
        "id": "xx6McuAA_uJd",
        "outputId": "abab9e88-7e12-4dc9-cd4e-815c50e11866"
      },
      "execution_count": 36,
      "outputs": [
        {
          "output_type": "stream",
          "name": "stdout",
          "text": [
            "Informe um número inteiro maior ou igual a zero: 112\n",
            "O número 112 não pertence à sequência de Fibonacci.\n"
          ]
        }
      ]
    },
    {
      "cell_type": "markdown",
      "source": [
        "3) Dado um vetor que guarda o valor de faturamento diário de uma distribuidora, faça um programa, na linguagem que desejar, que calcule e retorne:\n",
        "• O menor valor de faturamento ocorrido em um dia do mês;\n",
        "• O maior valor de faturamento ocorrido em um dia do mês;\n",
        "• Número de dias no mês em que o valor de faturamento diário foi superior à média mensal.\n",
        "\n",
        "\n",
        "IMPORTANTE:\n",
        "\n",
        "a) Usar o json ou xml disponível como fonte dos dados do faturamento mensal;\n",
        "\n",
        "b) Podem existir dias sem faturamento, como nos finais de semana e feriados. Estes dias devem ser ignorados no cálculo da média;"
      ],
      "metadata": {
        "id": "qCLEedBCCjnX"
      }
    },
    {
      "cell_type": "code",
      "source": [
        "def faturamento_menssal(faturamento):\n",
        "\n",
        "  valores = [dia[\"valor\"] for dia in faturamento]\n",
        "\n",
        "  maior = max(valores)\n",
        "  menor = min(valores)\n",
        "\n",
        "  media_faturamento = sum(valores) / len(valores)\n",
        "\n",
        "  dias_maior_media = len([x for x in valores if x > media_faturamento])\n",
        "\n",
        "  return f'''O menor valor de faturamento ocorrido em um dia do mês é: {menor},\n",
        "O maior valor de faturamento ocorrido em um dia do mês é: {maior},\n",
        "O número de dias no mês com valor superior à média mensal é: {dias_maior_media}.'''\n",
        "\n",
        "import json\n",
        "\n",
        "with open('dados.json', 'r') as file:\n",
        "    faturamento = json.load(file)\n",
        "\n",
        "print(faturamento_menssal(faturamento))"
      ],
      "metadata": {
        "colab": {
          "base_uri": "https://localhost:8080/"
        },
        "id": "8hfwhMMtCzgh",
        "outputId": "ac0d8bb0-52ac-4b94-d17d-d38562c97db4"
      },
      "execution_count": 25,
      "outputs": [
        {
          "output_type": "stream",
          "name": "stdout",
          "text": [
            "O menor valor de faturamento ocorrido em um dia do mês é: 0.0,\n",
            "O maior valor de faturamento ocorrido em um dia do mês é: 48924.2448,\n",
            "O número de dias no mês com valor superior à média mensal é: 12.\n"
          ]
        }
      ]
    },
    {
      "cell_type": "markdown",
      "source": [
        "4) Dado o valor de faturamento mensal de uma distribuidora, detalhado por estado:\n",
        "\n",
        "• SP – R$67.836,43\n",
        "\n",
        "• RJ – R$36.678,66\n",
        "\n",
        "• MG – R$29.229,88\n",
        "\n",
        "• ES – R$27.165,48\n",
        "\n",
        "• Outros – R$19.849,53\n",
        "\n",
        "Escreva um programa na linguagem que desejar onde calcule o percentual de representação que cada estado teve dentro do valor total mensal da distribuidora."
      ],
      "metadata": {
        "id": "Xfn_jn-SQtM9"
      }
    },
    {
      "cell_type": "code",
      "source": [
        "faturamento_por_estados = {\n",
        "    'SP': 67836.43,\n",
        "    'RJ': 36678.66,\n",
        "    'MG': 29229.88,\n",
        "    'ES': 27165.48,\n",
        "    'Outros': 19849.53\n",
        "}\n",
        "\n",
        "valores_faturamento = faturamento_por_estados.values()\n",
        "\n",
        "total = sum(valores_faturamento)\n",
        "\n",
        "print(\"Percentual de representação por estado: \\n\")\n",
        "for estado, valor in faturamento_por_estados.items():\n",
        "    percentual = (valor / total) * 100\n",
        "    print(f\"{estado}: {percentual:.2f}%\")"
      ],
      "metadata": {
        "colab": {
          "base_uri": "https://localhost:8080/"
        },
        "id": "v7te2zI_Qw1T",
        "outputId": "56b2bb1e-0c49-41d1-b956-f1f02c068cc3"
      },
      "execution_count": 27,
      "outputs": [
        {
          "output_type": "stream",
          "name": "stdout",
          "text": [
            "Percentual de representação por estado: \n",
            "\n",
            "SP: 37.53%\n",
            "RJ: 20.29%\n",
            "MG: 16.17%\n",
            "ES: 15.03%\n",
            "Outros: 10.98%\n"
          ]
        }
      ]
    },
    {
      "cell_type": "markdown",
      "source": [
        "5) Escreva um programa que inverta os caracteres de um string.\n",
        "\n",
        "IMPORTANTE:\n",
        "\n",
        "a) Essa string pode ser informada através de qualquer entrada de sua preferência ou pode ser previamente definida no código;\n",
        "\n",
        "b) Evite usar funções prontas, como, por exemplo, reverse;"
      ],
      "metadata": {
        "id": "QP3d9yh3SvCn"
      }
    },
    {
      "cell_type": "code",
      "source": [
        "def inverter_strings(string):\n",
        "  string_reversa = \"\"\n",
        "\n",
        "  auxiliar = len(string) - 1\n",
        "\n",
        "  while auxiliar >= 0:\n",
        "    string_reversa += string[auxiliar]\n",
        "    auxiliar -= 1\n",
        "\n",
        "  return string_reversa\n",
        "\n",
        "string = input(\"Informe a string a ser invertida: \")\n",
        "\n",
        "invertida = inverter_strings(string)\n",
        "\n",
        "print(f'A string invertida é: {invertida}.')"
      ],
      "metadata": {
        "colab": {
          "base_uri": "https://localhost:8080/"
        },
        "id": "pQgJ-bYPSx0g",
        "outputId": "097a88ed-d961-4bc9-b74b-7b31e769cd94"
      },
      "execution_count": 34,
      "outputs": [
        {
          "output_type": "stream",
          "name": "stdout",
          "text": [
            "Informe a string a ser invertida: 123456789\n",
            "A string invertida é: 987654321.\n"
          ]
        }
      ]
    },
    {
      "cell_type": "code",
      "source": [],
      "metadata": {
        "id": "FYRZEDUqTLee"
      },
      "execution_count": null,
      "outputs": []
    }
  ],
  "metadata": {
    "colab": {
      "provenance": []
    },
    "kernelspec": {
      "display_name": "Python 3",
      "name": "python3"
    },
    "language_info": {
      "name": "python"
    }
  },
  "nbformat": 4,
  "nbformat_minor": 0
}